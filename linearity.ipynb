{
 "cells": [
  {
   "cell_type": "markdown",
   "metadata": {},
   "source": [
    "# Detector Gain\n",
    "\n",
    "You could calculate the mean of each flat image manually using IRAF. Alternatively, you could calculate the means for all of the images automatically using Python."
   ]
  },
  {
   "cell_type": "code",
   "execution_count": 1,
   "metadata": {},
   "outputs": [],
   "source": [
    "from astropy.io import fits\n",
    "import numpy as np\n",
    "import matplotlib.pyplot as plt\n",
    "# glob serves some of the same functions as ls in the terminal\n",
    "import glob"
   ]
  },
  {
   "cell_type": "markdown",
   "metadata": {},
   "source": [
    "## FITS Headers\n",
    "The headers of the FITS files contain the exposure times of the flat images. Now we use `fits.open` instead of `fits.getdata`. HDU stands for Header/Data Unit."
   ]
  },
  {
   "cell_type": "code",
   "execution_count": 5,
   "metadata": {
    "collapsed": false,
    "jupyter": {
     "outputs_hidden": false
    }
   },
   "outputs": [
    {
     "name": "stdout",
     "output_type": "stream",
     "text": [
      "0.5\n"
     ]
    }
   ],
   "source": [
    "hdu = fits.open('480_2018_.Flat.0S0X1.R.16.fits')\n",
    "header = hdu[0].header\n",
    "print(header['exptime'])"
   ]
  },
  {
   "cell_type": "markdown",
   "metadata": {},
   "source": [
    "## Calculating Mean Counts\n",
    "We can find all of the flat images, assuming they all have 'Flat' in the name.\n",
    "#### You will need to change the path to the directory containing your data."
   ]
  },
  {
   "cell_type": "code",
   "execution_count": 6,
   "metadata": {
    "collapsed": false,
    "jupyter": {
     "outputs_hidden": false
    }
   },
   "outputs": [
    {
     "name": "stdout",
     "output_type": "stream",
     "text": [
      "['480_2018_.Flat.0S0X1.R.16.fits']\n"
     ]
    }
   ],
   "source": [
    "# This is equivalent to $ ls Flat*.fits\n",
    "flat_list = glob.glob('480_2018_.Flat.0S0X1.R.16.fits')\n",
    "print(flat_list)"
   ]
  },
  {
   "cell_type": "markdown",
   "metadata": {},
   "source": [
    "Now we can loop through each flat image, and keep track of the exposure time and mean counts"
   ]
  },
  {
   "cell_type": "code",
   "execution_count": 11,
   "metadata": {
    "collapsed": false,
    "jupyter": {
     "outputs_hidden": false
    }
   },
   "outputs": [
    {
     "name": "stdout",
     "output_type": "stream",
     "text": [
      "Exposure time 45.0 sec\n",
      "Mean counts: 21377.88\n",
      "\n"
     ]
    }
   ],
   "source": [
    "# These are empty lists (arrays) to store the exposure times and mean counts\n",
    "exp_times = []\n",
    "means = []\n",
    "\n",
    "for filename in flat_list:\n",
    "    # Open the FITS file\n",
    "    hdu = fits.open('480_2018_.Flat.45S0X1.R.26.fits')\n",
    "    \n",
    "    exptime = hdu[0].header['exptime']\n",
    "    print('Exposure time {} sec'.format(exptime))\n",
    "    \n",
    "    # This will append the exposure time for each image to the array\n",
    "    exp_times.append(exptime)\n",
    "    \n",
    "    # Same for mean counts\n",
    "    mean_counts = np.mean(hdu[0].data)\n",
    "    print('Mean counts: {:.2f}\\n'.format(mean_counts))\n",
    "    means.append(mean_counts)\n",
    "\n",
    "# Convert to Numpy arrays so they can be sorted\n",
    "exp_times = np.array(exp_times)\n",
    "means = np.array(means)\n",
    "\n",
    "# Sort by exposure time so the plot looks correct\n",
    "time_sort = np.argsort(exp_times)\n",
    "exp_times = exp_times[time_sort]\n",
    "means = means[time_sort]"
   ]
  },
  {
   "cell_type": "markdown",
   "metadata": {},
   "source": [
    "## Plot mean counts versus exposure time\n"
   ]
  },
  {
   "cell_type": "code",
   "execution_count": 12,
   "metadata": {
    "collapsed": false,
    "jupyter": {
     "outputs_hidden": false
    }
   },
   "outputs": [
    {
     "data": {
      "image/png": "[encoded data removed]",
      "text/plain": [
       "<Figure size 720x576 with 1 Axes>"
      ]
     },
     "metadata": {
      "needs_background": "light"
     },
     "output_type": "display_data"
    }
   ],
   "source": [
    "plt.figure(figsize=(10, 8))\n",
    "plt.rcParams['font.size'] = 16\n",
    "\n",
    "plt.plot(exp_times, means, '-ko')\n",
    "plt.xlabel('Exposure Time (sec)')\n",
    "plt.ylabel('Mean counts')\n",
    "plt.show()"
   ]
  },
  {
   "cell_type": "code",
   "execution_count": null,
   "metadata": {},
   "outputs": [],
   "source": []
  }
 ],
 "metadata": {
  "anaconda-cloud": {},
  "kernelspec": {
   "display_name": "Python 3",
   "language": "python",
   "name": "python3"
  },
  "language_info": {
   "codemirror_mode": {
    "name": "ipython",
    "version": 3
   },
   "file_extension": ".py",
   "mimetype": "text/x-python",
   "name": "python",
   "nbconvert_exporter": "python",
   "pygments_lexer": "ipython3",
   "version": "3.7.6"
  }
 },
 "nbformat": 4,
 "nbformat_minor": 4
}
